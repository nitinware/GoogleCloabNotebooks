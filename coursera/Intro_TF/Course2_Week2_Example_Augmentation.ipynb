{
  "nbformat": 4,
  "nbformat_minor": 0,
  "metadata": {
    "colab": {
      "name": "Course2_Week2_Exampe.ipynb",
      "provenance": [],
      "authorship_tag": "ABX9TyN4km55dTZpJcdXPYmPnOgM",
      "include_colab_link": true
    },
    "kernelspec": {
      "name": "python3",
      "display_name": "Python 3"
    },
    "accelerator": "GPU"
  },
  "cells": [
    {
      "cell_type": "markdown",
      "metadata": {
        "id": "view-in-github",
        "colab_type": "text"
      },
      "source": [
        "<a href=\"https://colab.research.google.com/github/nitinware/GoogleCloabNotebooks/blob/master/coursera/Intro_TF/Course2_Week2_Example_Augmentation.ipynb\" target=\"_parent\"><img src=\"https://colab.research.google.com/assets/colab-badge.svg\" alt=\"Open In Colab\"/></a>"
      ]
    },
    {
      "cell_type": "code",
      "metadata": {
        "id": "a2AnOGqWO9HS",
        "colab": {
          "base_uri": "https://localhost:8080/"
        },
        "outputId": "85c941ad-a069-4e30-f263-10f5071491e7"
      },
      "source": [
        "!wget --no-check-certificate \\\n",
        "    https://storage.googleapis.com/mledu-datasets/cats_and_dogs_filtered.zip \\\n",
        "    -O /tmp/cats_and_dogs_filtered.zip\n",
        "  \n",
        "import os\n",
        "import zipfile\n",
        "import tensorflow as tf\n",
        "from tensorflow.keras.optimizers import RMSprop\n",
        "from tensorflow.keras.preprocessing.image import ImageDataGenerator"
      ],
      "execution_count": null,
      "outputs": [
        {
          "output_type": "stream",
          "text": [
            "--2020-12-22 03:18:55--  https://storage.googleapis.com/mledu-datasets/cats_and_dogs_filtered.zip\n",
            "Resolving storage.googleapis.com (storage.googleapis.com)... 172.217.9.208, 172.217.12.240, 172.217.15.112, ...\n",
            "Connecting to storage.googleapis.com (storage.googleapis.com)|172.217.9.208|:443... connected.\n",
            "HTTP request sent, awaiting response... 200 OK\n",
            "Length: 68606236 (65M) [application/zip]\n",
            "Saving to: ‘/tmp/cats_and_dogs_filtered.zip’\n",
            "\n",
            "/tmp/cats_and_dogs_ 100%[===================>]  65.43M   140MB/s    in 0.5s    \n",
            "\n",
            "2020-12-22 03:18:55 (140 MB/s) - ‘/tmp/cats_and_dogs_filtered.zip’ saved [68606236/68606236]\n",
            "\n"
          ],
          "name": "stdout"
        }
      ]
    },
    {
      "cell_type": "code",
      "metadata": {
        "id": "G38imqByPJPV"
      },
      "source": [
        "local_zip = '/tmp/cats_and_dogs_filtered.zip'\n",
        "zip_ref = zipfile.ZipFile(local_zip, 'r')\n",
        "zip_ref.extractall('/tmp')\n",
        "zip_ref.close()"
      ],
      "execution_count": null,
      "outputs": []
    },
    {
      "cell_type": "code",
      "metadata": {
        "id": "yn3pjmWOPXof"
      },
      "source": [
        "base_dir = '/tmp/cats_and_dogs_filtered'\n",
        "train_dir = os.path.join(base_dir, 'train')\n",
        "validation_dir = os.path.join(base_dir, 'validation')"
      ],
      "execution_count": null,
      "outputs": []
    },
    {
      "cell_type": "code",
      "metadata": {
        "id": "j-z8D14KPpwd"
      },
      "source": [
        "train_cats_dir = os.path.join(train_dir, 'cats')\n",
        "train_dogs_dir = os.path.join(train_dir, 'dogs')"
      ],
      "execution_count": null,
      "outputs": []
    },
    {
      "cell_type": "code",
      "metadata": {
        "id": "RZDUK5MeSpaC"
      },
      "source": [
        "validation_cats_dir = os.path.join(validation_dir, 'cats')\n",
        "validation_dogs_dir = os.path.join(validation_dir, 'dogs')"
      ],
      "execution_count": null,
      "outputs": []
    },
    {
      "cell_type": "code",
      "metadata": {
        "id": "x8TCNE0ESuI_"
      },
      "source": [
        "model = tf.keras.models.Sequential([\n",
        "    tf.keras.layers.Conv2D(32, (3,3), activation='relu', input_shape=(150, 150, 3)),\n",
        "    tf.keras.layers.MaxPooling2D(2, 2),\n",
        "    tf.keras.layers.Conv2D(64, (3,3), activation='relu'),\n",
        "    tf.keras.layers.MaxPooling2D(2,2),\n",
        "    tf.keras.layers.Conv2D(128, (3,3), activation='relu'),\n",
        "    tf.keras.layers.MaxPooling2D(2,2),\n",
        "    tf.keras.layers.Conv2D(128, (3,3), activation='relu'),\n",
        "    tf.keras.layers.MaxPooling2D(2,2),\n",
        "    tf.keras.layers.Flatten(),\n",
        "    tf.keras.layers.Dense(512, activation='relu'),\n",
        "    tf.keras.layers.Dense(1, activation='sigmoid')\n",
        "])"
      ],
      "execution_count": null,
      "outputs": []
    },
    {
      "cell_type": "code",
      "metadata": {
        "id": "KhNF343kS3lv"
      },
      "source": [
        "model.compile(loss='binary_crossentropy', optimizer=RMSprop(lr=1e-4), metrics=['accuracy'])"
      ],
      "execution_count": null,
      "outputs": []
    },
    {
      "cell_type": "code",
      "metadata": {
        "id": "jq92Kkw8TEAZ"
      },
      "source": [
        "train_datagen = ImageDataGenerator(\n",
        "    rescale=1./255\n",
        "    )\n",
        "test_datagen = ImageDataGenerator(rescale=1./255)"
      ],
      "execution_count": null,
      "outputs": []
    },
    {
      "cell_type": "code",
      "metadata": {
        "id": "Qp5aMfk5TJbm",
        "colab": {
          "base_uri": "https://localhost:8080/"
        },
        "outputId": "f9c6b63c-f5a7-4189-a016-2a526b4ca404"
      },
      "source": [
        "train_generator = train_datagen.flow_from_directory(\n",
        "    train_dir,\n",
        "    target_size=(150,150),\n",
        "    batch_size=20,\n",
        "    class_mode='binary'\n",
        ")"
      ],
      "execution_count": null,
      "outputs": [
        {
          "output_type": "stream",
          "text": [
            "Found 2000 images belonging to 2 classes.\n"
          ],
          "name": "stdout"
        }
      ]
    },
    {
      "cell_type": "code",
      "metadata": {
        "id": "ySYetDvbTU0x",
        "colab": {
          "base_uri": "https://localhost:8080/"
        },
        "outputId": "105d7314-56ef-4af0-c332-762f0d712e29"
      },
      "source": [
        "validation_generator = test_datagen.flow_from_directory(\n",
        "    validation_dir,\n",
        "    target_size=(150,150),\n",
        "    batch_size=20,\n",
        "    class_mode='binary'\n",
        ")"
      ],
      "execution_count": null,
      "outputs": [
        {
          "output_type": "stream",
          "text": [
            "Found 1000 images belonging to 2 classes.\n"
          ],
          "name": "stdout"
        }
      ]
    },
    {
      "cell_type": "code",
      "metadata": {
        "id": "yu1AceorTeC7",
        "colab": {
          "base_uri": "https://localhost:8080/"
        },
        "outputId": "b965e23e-3407-4a67-c174-7aa06a733169"
      },
      "source": [
        "history = model.fit(\n",
        "      train_generator,\n",
        "      steps_per_epoch=100,  # 2000 images = batch_size * steps\n",
        "      epochs=100,\n",
        "      validation_data=validation_generator,\n",
        "      validation_steps=50,  # 1000 images = batch_size * steps\n",
        "      verbose=2)"
      ],
      "execution_count": null,
      "outputs": [
        {
          "output_type": "stream",
          "text": [
            "Epoch 1/100\n",
            "100/100 - 16s - loss: 0.6865 - accuracy: 0.5625 - val_loss: 0.6871 - val_accuracy: 0.5030\n",
            "Epoch 2/100\n",
            "100/100 - 8s - loss: 0.6604 - accuracy: 0.6110 - val_loss: 0.6452 - val_accuracy: 0.6410\n",
            "Epoch 3/100\n",
            "100/100 - 8s - loss: 0.6170 - accuracy: 0.6640 - val_loss: 0.5923 - val_accuracy: 0.6900\n",
            "Epoch 4/100\n",
            "100/100 - 8s - loss: 0.5792 - accuracy: 0.6810 - val_loss: 0.5797 - val_accuracy: 0.7000\n",
            "Epoch 5/100\n",
            "100/100 - 8s - loss: 0.5429 - accuracy: 0.7245 - val_loss: 0.5665 - val_accuracy: 0.7060\n",
            "Epoch 6/100\n",
            "100/100 - 8s - loss: 0.5225 - accuracy: 0.7370 - val_loss: 0.5467 - val_accuracy: 0.7230\n",
            "Epoch 7/100\n",
            "100/100 - 8s - loss: 0.4921 - accuracy: 0.7710 - val_loss: 0.5745 - val_accuracy: 0.6930\n",
            "Epoch 8/100\n",
            "100/100 - 8s - loss: 0.4733 - accuracy: 0.7725 - val_loss: 0.5869 - val_accuracy: 0.7000\n",
            "Epoch 9/100\n",
            "100/100 - 8s - loss: 0.4442 - accuracy: 0.7965 - val_loss: 0.5312 - val_accuracy: 0.7240\n",
            "Epoch 10/100\n",
            "100/100 - 8s - loss: 0.4324 - accuracy: 0.7945 - val_loss: 0.5241 - val_accuracy: 0.7430\n",
            "Epoch 11/100\n",
            "100/100 - 8s - loss: 0.4068 - accuracy: 0.8155 - val_loss: 0.5393 - val_accuracy: 0.7290\n",
            "Epoch 12/100\n",
            "100/100 - 8s - loss: 0.3788 - accuracy: 0.8275 - val_loss: 0.5212 - val_accuracy: 0.7600\n",
            "Epoch 13/100\n",
            "100/100 - 8s - loss: 0.3595 - accuracy: 0.8385 - val_loss: 0.5360 - val_accuracy: 0.7310\n",
            "Epoch 14/100\n",
            "100/100 - 8s - loss: 0.3284 - accuracy: 0.8595 - val_loss: 0.5514 - val_accuracy: 0.7410\n",
            "Epoch 15/100\n",
            "100/100 - 8s - loss: 0.3037 - accuracy: 0.8780 - val_loss: 0.5351 - val_accuracy: 0.7460\n",
            "Epoch 16/100\n",
            "100/100 - 8s - loss: 0.2849 - accuracy: 0.8920 - val_loss: 0.5576 - val_accuracy: 0.7580\n",
            "Epoch 17/100\n",
            "100/100 - 8s - loss: 0.2670 - accuracy: 0.8915 - val_loss: 0.5792 - val_accuracy: 0.7370\n",
            "Epoch 18/100\n",
            "100/100 - 8s - loss: 0.2435 - accuracy: 0.9070 - val_loss: 0.6228 - val_accuracy: 0.7360\n",
            "Epoch 19/100\n",
            "100/100 - 8s - loss: 0.2220 - accuracy: 0.9115 - val_loss: 0.6867 - val_accuracy: 0.7110\n",
            "Epoch 20/100\n",
            "100/100 - 8s - loss: 0.2071 - accuracy: 0.9135 - val_loss: 0.5849 - val_accuracy: 0.7480\n",
            "Epoch 21/100\n",
            "100/100 - 8s - loss: 0.1779 - accuracy: 0.9390 - val_loss: 0.5868 - val_accuracy: 0.7550\n",
            "Epoch 22/100\n",
            "100/100 - 8s - loss: 0.1600 - accuracy: 0.9420 - val_loss: 0.6219 - val_accuracy: 0.7520\n",
            "Epoch 23/100\n",
            "100/100 - 8s - loss: 0.1536 - accuracy: 0.9450 - val_loss: 0.7310 - val_accuracy: 0.7290\n",
            "Epoch 24/100\n",
            "100/100 - 8s - loss: 0.1315 - accuracy: 0.9555 - val_loss: 0.6837 - val_accuracy: 0.7450\n",
            "Epoch 25/100\n",
            "100/100 - 8s - loss: 0.1160 - accuracy: 0.9600 - val_loss: 0.7540 - val_accuracy: 0.7280\n",
            "Epoch 26/100\n",
            "100/100 - 8s - loss: 0.0977 - accuracy: 0.9720 - val_loss: 0.7230 - val_accuracy: 0.7380\n",
            "Epoch 27/100\n",
            "100/100 - 8s - loss: 0.0862 - accuracy: 0.9750 - val_loss: 0.7302 - val_accuracy: 0.7540\n",
            "Epoch 28/100\n",
            "100/100 - 8s - loss: 0.0717 - accuracy: 0.9810 - val_loss: 0.8471 - val_accuracy: 0.7360\n",
            "Epoch 29/100\n",
            "100/100 - 8s - loss: 0.0653 - accuracy: 0.9795 - val_loss: 0.8053 - val_accuracy: 0.7350\n",
            "Epoch 30/100\n",
            "100/100 - 8s - loss: 0.0563 - accuracy: 0.9870 - val_loss: 0.8144 - val_accuracy: 0.7420\n",
            "Epoch 31/100\n",
            "100/100 - 8s - loss: 0.0463 - accuracy: 0.9900 - val_loss: 0.8040 - val_accuracy: 0.7500\n",
            "Epoch 32/100\n",
            "100/100 - 8s - loss: 0.0410 - accuracy: 0.9895 - val_loss: 0.8543 - val_accuracy: 0.7550\n",
            "Epoch 33/100\n",
            "100/100 - 8s - loss: 0.0381 - accuracy: 0.9905 - val_loss: 0.9335 - val_accuracy: 0.7400\n",
            "Epoch 34/100\n",
            "100/100 - 8s - loss: 0.0287 - accuracy: 0.9930 - val_loss: 0.9558 - val_accuracy: 0.7570\n",
            "Epoch 35/100\n",
            "100/100 - 8s - loss: 0.0247 - accuracy: 0.9960 - val_loss: 0.9213 - val_accuracy: 0.7570\n",
            "Epoch 36/100\n",
            "100/100 - 8s - loss: 0.0242 - accuracy: 0.9925 - val_loss: 1.0361 - val_accuracy: 0.7520\n",
            "Epoch 37/100\n",
            "100/100 - 8s - loss: 0.0169 - accuracy: 0.9960 - val_loss: 1.1123 - val_accuracy: 0.7460\n",
            "Epoch 38/100\n",
            "100/100 - 8s - loss: 0.0206 - accuracy: 0.9940 - val_loss: 1.0635 - val_accuracy: 0.7520\n",
            "Epoch 39/100\n",
            "100/100 - 8s - loss: 0.0152 - accuracy: 0.9945 - val_loss: 1.2138 - val_accuracy: 0.7470\n",
            "Epoch 40/100\n",
            "100/100 - 8s - loss: 0.0148 - accuracy: 0.9965 - val_loss: 1.1700 - val_accuracy: 0.7530\n",
            "Epoch 41/100\n",
            "100/100 - 8s - loss: 0.0235 - accuracy: 0.9935 - val_loss: 1.4858 - val_accuracy: 0.7300\n",
            "Epoch 42/100\n",
            "100/100 - 8s - loss: 0.0103 - accuracy: 0.9970 - val_loss: 1.1899 - val_accuracy: 0.7530\n",
            "Epoch 43/100\n",
            "100/100 - 8s - loss: 0.0120 - accuracy: 0.9965 - val_loss: 1.2111 - val_accuracy: 0.7440\n",
            "Epoch 44/100\n",
            "100/100 - 8s - loss: 0.0202 - accuracy: 0.9925 - val_loss: 1.3306 - val_accuracy: 0.7350\n",
            "Epoch 45/100\n",
            "100/100 - 8s - loss: 0.0133 - accuracy: 0.9955 - val_loss: 1.2441 - val_accuracy: 0.7500\n",
            "Epoch 46/100\n",
            "100/100 - 8s - loss: 0.0098 - accuracy: 0.9970 - val_loss: 1.3834 - val_accuracy: 0.7280\n",
            "Epoch 47/100\n",
            "100/100 - 8s - loss: 0.0041 - accuracy: 0.9995 - val_loss: 1.3197 - val_accuracy: 0.7510\n",
            "Epoch 48/100\n",
            "100/100 - 8s - loss: 0.0092 - accuracy: 0.9970 - val_loss: 1.3726 - val_accuracy: 0.7520\n",
            "Epoch 49/100\n",
            "100/100 - 8s - loss: 0.0110 - accuracy: 0.9960 - val_loss: 1.3064 - val_accuracy: 0.7490\n",
            "Epoch 50/100\n",
            "100/100 - 8s - loss: 0.0053 - accuracy: 0.9990 - val_loss: 1.3579 - val_accuracy: 0.7590\n",
            "Epoch 51/100\n",
            "100/100 - 8s - loss: 0.0111 - accuracy: 0.9975 - val_loss: 1.8944 - val_accuracy: 0.7160\n",
            "Epoch 52/100\n",
            "100/100 - 8s - loss: 0.0054 - accuracy: 0.9990 - val_loss: 1.6434 - val_accuracy: 0.7290\n",
            "Epoch 53/100\n",
            "100/100 - 8s - loss: 0.0155 - accuracy: 0.9945 - val_loss: 1.4005 - val_accuracy: 0.7520\n",
            "Epoch 54/100\n",
            "100/100 - 8s - loss: 0.0069 - accuracy: 0.9975 - val_loss: 1.5124 - val_accuracy: 0.7520\n",
            "Epoch 55/100\n",
            "100/100 - 8s - loss: 0.0043 - accuracy: 0.9990 - val_loss: 1.5115 - val_accuracy: 0.7630\n",
            "Epoch 56/100\n",
            "100/100 - 8s - loss: 0.0035 - accuracy: 0.9990 - val_loss: 2.2555 - val_accuracy: 0.7060\n",
            "Epoch 57/100\n",
            "100/100 - 8s - loss: 0.0057 - accuracy: 0.9975 - val_loss: 1.5178 - val_accuracy: 0.7460\n",
            "Epoch 58/100\n",
            "100/100 - 8s - loss: 0.0073 - accuracy: 0.9975 - val_loss: 1.6843 - val_accuracy: 0.7380\n",
            "Epoch 59/100\n",
            "100/100 - 8s - loss: 0.0038 - accuracy: 0.9995 - val_loss: 1.5907 - val_accuracy: 0.7490\n",
            "Epoch 60/100\n",
            "100/100 - 8s - loss: 0.0071 - accuracy: 0.9975 - val_loss: 1.6093 - val_accuracy: 0.7530\n",
            "Epoch 61/100\n",
            "100/100 - 8s - loss: 0.0015 - accuracy: 1.0000 - val_loss: 1.6208 - val_accuracy: 0.7540\n",
            "Epoch 62/100\n",
            "100/100 - 8s - loss: 0.0163 - accuracy: 0.9965 - val_loss: 1.6661 - val_accuracy: 0.7510\n",
            "Epoch 63/100\n",
            "100/100 - 8s - loss: 0.0027 - accuracy: 0.9985 - val_loss: 1.6929 - val_accuracy: 0.7530\n",
            "Epoch 64/100\n",
            "100/100 - 8s - loss: 0.0050 - accuracy: 0.9975 - val_loss: 1.7363 - val_accuracy: 0.7540\n",
            "Epoch 65/100\n",
            "100/100 - 8s - loss: 0.0054 - accuracy: 0.9990 - val_loss: 1.7451 - val_accuracy: 0.7540\n",
            "Epoch 66/100\n",
            "100/100 - 8s - loss: 0.0161 - accuracy: 0.9970 - val_loss: 1.7139 - val_accuracy: 0.7490\n",
            "Epoch 67/100\n",
            "100/100 - 8s - loss: 0.0071 - accuracy: 0.9985 - val_loss: 1.8327 - val_accuracy: 0.7470\n",
            "Epoch 68/100\n",
            "100/100 - 8s - loss: 0.0055 - accuracy: 0.9975 - val_loss: 1.8473 - val_accuracy: 0.7410\n",
            "Epoch 69/100\n",
            "100/100 - 8s - loss: 0.0072 - accuracy: 0.9975 - val_loss: 1.8364 - val_accuracy: 0.7480\n",
            "Epoch 70/100\n",
            "100/100 - 8s - loss: 0.0032 - accuracy: 0.9985 - val_loss: 1.9829 - val_accuracy: 0.7310\n",
            "Epoch 71/100\n",
            "100/100 - 8s - loss: 0.0022 - accuracy: 0.9990 - val_loss: 1.9811 - val_accuracy: 0.7390\n",
            "Epoch 72/100\n",
            "100/100 - 8s - loss: 0.0059 - accuracy: 0.9985 - val_loss: 1.9316 - val_accuracy: 0.7360\n",
            "Epoch 73/100\n",
            "100/100 - 8s - loss: 0.0056 - accuracy: 0.9990 - val_loss: 1.8250 - val_accuracy: 0.7470\n",
            "Epoch 74/100\n",
            "100/100 - 8s - loss: 6.2428e-05 - accuracy: 1.0000 - val_loss: 1.9192 - val_accuracy: 0.7490\n",
            "Epoch 75/100\n",
            "100/100 - 8s - loss: 0.0032 - accuracy: 0.9985 - val_loss: 1.9050 - val_accuracy: 0.7510\n",
            "Epoch 76/100\n",
            "100/100 - 8s - loss: 0.0063 - accuracy: 0.9970 - val_loss: 1.9412 - val_accuracy: 0.7400\n",
            "Epoch 77/100\n",
            "100/100 - 8s - loss: 0.0044 - accuracy: 0.9990 - val_loss: 2.2694 - val_accuracy: 0.7420\n",
            "Epoch 78/100\n",
            "100/100 - 8s - loss: 0.0043 - accuracy: 0.9990 - val_loss: 2.0188 - val_accuracy: 0.7460\n",
            "Epoch 79/100\n",
            "100/100 - 8s - loss: 1.0437e-04 - accuracy: 1.0000 - val_loss: 1.9908 - val_accuracy: 0.7560\n",
            "Epoch 80/100\n",
            "100/100 - 8s - loss: 0.0038 - accuracy: 0.9985 - val_loss: 1.9228 - val_accuracy: 0.7520\n",
            "Epoch 81/100\n",
            "100/100 - 8s - loss: 0.0105 - accuracy: 0.9975 - val_loss: 2.0486 - val_accuracy: 0.7490\n",
            "Epoch 82/100\n",
            "100/100 - 8s - loss: 0.0097 - accuracy: 0.9975 - val_loss: 2.0409 - val_accuracy: 0.7380\n",
            "Epoch 83/100\n",
            "100/100 - 8s - loss: 1.0299e-04 - accuracy: 1.0000 - val_loss: 2.0844 - val_accuracy: 0.7480\n",
            "Epoch 84/100\n",
            "100/100 - 8s - loss: 0.0087 - accuracy: 0.9975 - val_loss: 2.0325 - val_accuracy: 0.7520\n",
            "Epoch 85/100\n",
            "100/100 - 8s - loss: 0.0117 - accuracy: 0.9980 - val_loss: 2.0068 - val_accuracy: 0.7530\n",
            "Epoch 86/100\n",
            "100/100 - 8s - loss: 2.0299e-05 - accuracy: 1.0000 - val_loss: 2.1107 - val_accuracy: 0.7620\n",
            "Epoch 87/100\n",
            "100/100 - 8s - loss: 0.0058 - accuracy: 0.9985 - val_loss: 2.1946 - val_accuracy: 0.7480\n",
            "Epoch 88/100\n",
            "100/100 - 8s - loss: 4.4730e-05 - accuracy: 1.0000 - val_loss: 2.1689 - val_accuracy: 0.7550\n",
            "Epoch 89/100\n",
            "100/100 - 8s - loss: 6.8401e-04 - accuracy: 0.9995 - val_loss: 2.2481 - val_accuracy: 0.7570\n",
            "Epoch 90/100\n",
            "100/100 - 8s - loss: 0.0010 - accuracy: 0.9995 - val_loss: 2.2704 - val_accuracy: 0.7560\n",
            "Epoch 91/100\n",
            "100/100 - 8s - loss: 0.0098 - accuracy: 0.9975 - val_loss: 2.1660 - val_accuracy: 0.7510\n",
            "Epoch 92/100\n",
            "100/100 - 8s - loss: 9.6706e-05 - accuracy: 1.0000 - val_loss: 2.1814 - val_accuracy: 0.7480\n",
            "Epoch 93/100\n",
            "100/100 - 8s - loss: 0.0102 - accuracy: 0.9980 - val_loss: 2.3073 - val_accuracy: 0.7480\n",
            "Epoch 94/100\n",
            "100/100 - 8s - loss: 6.9585e-06 - accuracy: 1.0000 - val_loss: 2.3652 - val_accuracy: 0.7580\n",
            "Epoch 95/100\n",
            "100/100 - 8s - loss: 0.0113 - accuracy: 0.9975 - val_loss: 2.4177 - val_accuracy: 0.7390\n",
            "Epoch 96/100\n",
            "100/100 - 8s - loss: 3.9450e-04 - accuracy: 1.0000 - val_loss: 2.2454 - val_accuracy: 0.7550\n",
            "Epoch 97/100\n",
            "100/100 - 8s - loss: 0.0032 - accuracy: 0.9995 - val_loss: 2.5817 - val_accuracy: 0.7530\n",
            "Epoch 98/100\n",
            "100/100 - 8s - loss: 0.0037 - accuracy: 0.9985 - val_loss: 2.3602 - val_accuracy: 0.7580\n",
            "Epoch 99/100\n",
            "100/100 - 8s - loss: 0.0028 - accuracy: 0.9985 - val_loss: 2.2750 - val_accuracy: 0.7480\n",
            "Epoch 100/100\n",
            "100/100 - 8s - loss: 0.0015 - accuracy: 0.9995 - val_loss: 2.5904 - val_accuracy: 0.7350\n"
          ],
          "name": "stdout"
        }
      ]
    },
    {
      "cell_type": "code",
      "metadata": {
        "id": "kQfZm85_fRnb"
      },
      "source": [
        "import matplotlib.pyplot as plt"
      ],
      "execution_count": null,
      "outputs": []
    },
    {
      "cell_type": "code",
      "metadata": {
        "id": "OvgbSoTkfXlS"
      },
      "source": [
        "acc = history.history['accuracy']\n",
        "val_acc = history.history['val_accuracy']\n",
        "loss = history.history['loss']\n",
        "val_loss = history.history['val_loss']"
      ],
      "execution_count": null,
      "outputs": []
    },
    {
      "cell_type": "code",
      "metadata": {
        "id": "PYohTr2zfgq8"
      },
      "source": [
        "epochs = range(len(acc))"
      ],
      "execution_count": null,
      "outputs": []
    },
    {
      "cell_type": "code",
      "metadata": {
        "id": "HuaXQUSkfkLB",
        "colab": {
          "base_uri": "https://localhost:8080/",
          "height": 545
        },
        "outputId": "1e8c9e51-31cc-474e-c792-d7b800f5cd0b"
      },
      "source": [
        "plt.plot(epochs, acc, 'bo', label='Training accuracy')\n",
        "plt.plot(epochs, val_acc, 'b', label='Validation accuracy')\n",
        "plt.title('Training and validation accuracy')\n",
        "\n",
        "plt.figure()\n",
        "\n",
        "plt.plot(epochs, loss, 'bo', label='Training loss')\n",
        "plt.plot(epochs, val_loss, 'b', label='Validation loss')\n",
        "plt.title('Training and validation loss')\n",
        "\n",
        "plt.legend()\n",
        "\n",
        "plt.show()"
      ],
      "execution_count": null,
      "outputs": [
        {
          "output_type": "display_data",
          "data": {
            "image/png": "[encoded data removed]",
            "text/plain": [
              "<Figure size 432x288 with 1 Axes>"
            ]
          },
          "metadata": {
            "tags": [],
            "needs_background": "light"
          }
        },
        {
          "output_type": "display_data",
          "data": {
            "image/png": "[encoded data removed]",
            "text/plain": [
              "<Figure size 432x288 with 1 Axes>"
            ]
          },
          "metadata": {
            "tags": [],
            "needs_background": "light"
          }
        }
      ]
    },
    {
      "cell_type": "code",
      "metadata": {
        "id": "kdiRh3pIgeu7"
      },
      "source": [
        ""
      ],
      "execution_count": null,
      "outputs": []
    }
  ]
}