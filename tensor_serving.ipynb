{
  "nbformat": 4,
  "nbformat_minor": 0,
  "metadata": {
    "colab": {
      "name": "tensor-serving.ipynb",
      "provenance": [],
      "authorship_tag": "ABX9TyPl+ke9TSXTz9sj/aS6FbRW",
      "include_colab_link": true
    },
    "kernelspec": {
      "name": "python3",
      "display_name": "Python 3"
    },
    "language_info": {
      "name": "python"
    }
  },
  "cells": [
    {
      "cell_type": "markdown",
      "metadata": {
        "id": "view-in-github",
        "colab_type": "text"
      },
      "source": [
        "<a href=\"https://colab.research.google.com/github/nitinware/GoogleCloabNotebooks/blob/master/tensor_serving.ipynb\" target=\"_parent\"><img src=\"https://colab.research.google.com/assets/colab-badge.svg\" alt=\"Open In Colab\"/></a>"
      ]
    },
    {
      "cell_type": "code",
      "metadata": {
        "id": "_ctC90eqnYcY"
      },
      "source": [
        "import numpy as np\n",
        "import pandas as pd\n",
        "import tensorflow as tf"
      ],
      "execution_count": 2,
      "outputs": []
    },
    {
      "cell_type": "code",
      "metadata": {
        "id": "w0EqZHIlr9pa"
      },
      "source": [
        "dataset = pd.read_csv('https://raw.githubusercontent.com/futurexskill/ml-model-deployment/main/storepurchasedata_large.csv')"
      ],
      "execution_count": 3,
      "outputs": []
    },
    {
      "cell_type": "code",
      "metadata": {
        "id": "WUJvvA_QsE-A",
        "outputId": "4a42824e-e044-448c-a587-b88b31b306b9",
        "colab": {
          "base_uri": "https://localhost:8080/",
          "height": 297
        }
      },
      "source": [
        "dataset.describe()"
      ],
      "execution_count": 4,
      "outputs": [
        {
          "output_type": "execute_result",
          "data": {
            "text/html": [
              "<div>\n",
              "<style scoped>\n",
              "    .dataframe tbody tr th:only-of-type {\n",
              "        vertical-align: middle;\n",
              "    }\n",
              "\n",
              "    .dataframe tbody tr th {\n",
              "        vertical-align: top;\n",
              "    }\n",
              "\n",
              "    .dataframe thead th {\n",
              "        text-align: right;\n",
              "    }\n",
              "</style>\n",
              "<table border=\"1\" class=\"dataframe\">\n",
              "  <thead>\n",
              "    <tr style=\"text-align: right;\">\n",
              "      <th></th>\n",
              "      <th>Age</th>\n",
              "      <th>Salary</th>\n",
              "      <th>Purchased</th>\n",
              "    </tr>\n",
              "  </thead>\n",
              "  <tbody>\n",
              "    <tr>\n",
              "      <th>count</th>\n",
              "      <td>1554.000000</td>\n",
              "      <td>1554.000000</td>\n",
              "      <td>1554.000000</td>\n",
              "    </tr>\n",
              "    <tr>\n",
              "      <th>mean</th>\n",
              "      <td>44.296010</td>\n",
              "      <td>57042.471042</td>\n",
              "      <td>0.694981</td>\n",
              "    </tr>\n",
              "    <tr>\n",
              "      <th>std</th>\n",
              "      <td>17.462458</td>\n",
              "      <td>21209.244800</td>\n",
              "      <td>0.460564</td>\n",
              "    </tr>\n",
              "    <tr>\n",
              "      <th>min</th>\n",
              "      <td>18.000000</td>\n",
              "      <td>20000.000000</td>\n",
              "      <td>0.000000</td>\n",
              "    </tr>\n",
              "    <tr>\n",
              "      <th>25%</th>\n",
              "      <td>27.000000</td>\n",
              "      <td>46000.000000</td>\n",
              "      <td>0.000000</td>\n",
              "    </tr>\n",
              "    <tr>\n",
              "      <th>50%</th>\n",
              "      <td>43.000000</td>\n",
              "      <td>60000.000000</td>\n",
              "      <td>1.000000</td>\n",
              "    </tr>\n",
              "    <tr>\n",
              "      <th>75%</th>\n",
              "      <td>62.000000</td>\n",
              "      <td>66000.000000</td>\n",
              "      <td>1.000000</td>\n",
              "    </tr>\n",
              "    <tr>\n",
              "      <th>max</th>\n",
              "      <td>69.000000</td>\n",
              "      <td>96000.000000</td>\n",
              "      <td>1.000000</td>\n",
              "    </tr>\n",
              "  </tbody>\n",
              "</table>\n",
              "</div>"
            ],
            "text/plain": [
              "               Age        Salary    Purchased\n",
              "count  1554.000000   1554.000000  1554.000000\n",
              "mean     44.296010  57042.471042     0.694981\n",
              "std      17.462458  21209.244800     0.460564\n",
              "min      18.000000  20000.000000     0.000000\n",
              "25%      27.000000  46000.000000     0.000000\n",
              "50%      43.000000  60000.000000     1.000000\n",
              "75%      62.000000  66000.000000     1.000000\n",
              "max      69.000000  96000.000000     1.000000"
            ]
          },
          "metadata": {
            "tags": []
          },
          "execution_count": 4
        }
      ]
    },
    {
      "cell_type": "code",
      "metadata": {
        "id": "kw_OJh80sOTL",
        "outputId": "5c9a8581-dfb9-43a6-81d3-ce08cf2fced5",
        "colab": {
          "base_uri": "https://localhost:8080/",
          "height": 204
        }
      },
      "source": [
        "dataset.head()"
      ],
      "execution_count": 5,
      "outputs": [
        {
          "output_type": "execute_result",
          "data": {
            "text/html": [
              "<div>\n",
              "<style scoped>\n",
              "    .dataframe tbody tr th:only-of-type {\n",
              "        vertical-align: middle;\n",
              "    }\n",
              "\n",
              "    .dataframe tbody tr th {\n",
              "        vertical-align: top;\n",
              "    }\n",
              "\n",
              "    .dataframe thead th {\n",
              "        text-align: right;\n",
              "    }\n",
              "</style>\n",
              "<table border=\"1\" class=\"dataframe\">\n",
              "  <thead>\n",
              "    <tr style=\"text-align: right;\">\n",
              "      <th></th>\n",
              "      <th>Age</th>\n",
              "      <th>Salary</th>\n",
              "      <th>Purchased</th>\n",
              "    </tr>\n",
              "  </thead>\n",
              "  <tbody>\n",
              "    <tr>\n",
              "      <th>0</th>\n",
              "      <td>18</td>\n",
              "      <td>20000</td>\n",
              "      <td>0</td>\n",
              "    </tr>\n",
              "    <tr>\n",
              "      <th>1</th>\n",
              "      <td>19</td>\n",
              "      <td>22000</td>\n",
              "      <td>0</td>\n",
              "    </tr>\n",
              "    <tr>\n",
              "      <th>2</th>\n",
              "      <td>20</td>\n",
              "      <td>24000</td>\n",
              "      <td>0</td>\n",
              "    </tr>\n",
              "    <tr>\n",
              "      <th>3</th>\n",
              "      <td>21</td>\n",
              "      <td>28000</td>\n",
              "      <td>0</td>\n",
              "    </tr>\n",
              "    <tr>\n",
              "      <th>4</th>\n",
              "      <td>22</td>\n",
              "      <td>60000</td>\n",
              "      <td>1</td>\n",
              "    </tr>\n",
              "  </tbody>\n",
              "</table>\n",
              "</div>"
            ],
            "text/plain": [
              "   Age  Salary  Purchased\n",
              "0   18   20000          0\n",
              "1   19   22000          0\n",
              "2   20   24000          0\n",
              "3   21   28000          0\n",
              "4   22   60000          1"
            ]
          },
          "metadata": {
            "tags": []
          },
          "execution_count": 5
        }
      ]
    },
    {
      "cell_type": "code",
      "metadata": {
        "id": "fcxBFWiNsP03"
      },
      "source": [
        "X = dataset.iloc[:, :-1].values\n",
        "y = dataset.iloc[:, -1].values"
      ],
      "execution_count": 6,
      "outputs": []
    },
    {
      "cell_type": "code",
      "metadata": {
        "id": "6UMTQsiHsa2Y"
      },
      "source": [
        "from sklearn.model_selection import train_test_split"
      ],
      "execution_count": 7,
      "outputs": []
    },
    {
      "cell_type": "code",
      "metadata": {
        "id": "xT5AosmtshX5"
      },
      "source": [
        "X_train, X_test, y_train, y_test = train_test_split(X, y, test_size=.20, random_state=0)"
      ],
      "execution_count": 8,
      "outputs": []
    },
    {
      "cell_type": "code",
      "metadata": {
        "id": "TKz01D91suPt"
      },
      "source": [
        "from sklearn.preprocessing import StandardScaler\n",
        "sc = StandardScaler()"
      ],
      "execution_count": 9,
      "outputs": []
    },
    {
      "cell_type": "code",
      "metadata": {
        "id": "21hg3seds2MW"
      },
      "source": [
        "X_train = sc.fit_transform(X_train)\n",
        "X_test = sc.transform(X_test)"
      ],
      "execution_count": 10,
      "outputs": []
    },
    {
      "cell_type": "code",
      "metadata": {
        "id": "a43BhHces8eg"
      },
      "source": [
        "model = tf.keras.Sequential([\n",
        "  tf.keras.layers.Dense(10, activation='relu'),\n",
        "  tf.keras.layers.Dense(10, activation='relu'),\n",
        "  tf.keras.layers.Dense(2, activation='softmax')\n",
        "])"
      ],
      "execution_count": 11,
      "outputs": []
    },
    {
      "cell_type": "code",
      "metadata": {
        "id": "0yuGqdxOtSqv"
      },
      "source": [
        "model.compile(\n",
        "    optimizer='adam',\n",
        "    loss='sparse_categorical_crossentropy',\n",
        "    metrics=['accuracy']\n",
        ")"
      ],
      "execution_count": 12,
      "outputs": []
    },
    {
      "cell_type": "code",
      "metadata": {
        "id": "Ju0CouHKtfz2",
        "outputId": "ad8fb926-1632-4e45-995b-b1fe11553415",
        "colab": {
          "base_uri": "https://localhost:8080/"
        }
      },
      "source": [
        "model.fit(X_train, y_train, epochs=50)"
      ],
      "execution_count": 14,
      "outputs": [
        {
          "output_type": "stream",
          "text": [
            "Epoch 1/50\n",
            "39/39 [==============================] - 1s 2ms/step - loss: 0.8010 - accuracy: 0.4617\n",
            "Epoch 2/50\n",
            "39/39 [==============================] - 0s 2ms/step - loss: 0.6207 - accuracy: 0.5957\n",
            "Epoch 3/50\n",
            "39/39 [==============================] - 0s 2ms/step - loss: 0.4843 - accuracy: 0.8422\n",
            "Epoch 4/50\n",
            "39/39 [==============================] - 0s 1ms/step - loss: 0.3754 - accuracy: 0.9603\n",
            "Epoch 5/50\n",
            "39/39 [==============================] - 0s 1ms/step - loss: 0.2980 - accuracy: 0.9580\n",
            "Epoch 6/50\n",
            "39/39 [==============================] - 0s 1ms/step - loss: 0.2413 - accuracy: 0.9621\n",
            "Epoch 7/50\n",
            "39/39 [==============================] - 0s 1ms/step - loss: 0.1896 - accuracy: 0.9628\n",
            "Epoch 8/50\n",
            "39/39 [==============================] - 0s 1ms/step - loss: 0.1780 - accuracy: 0.9529\n",
            "Epoch 9/50\n",
            "39/39 [==============================] - 0s 2ms/step - loss: 0.1639 - accuracy: 0.9503\n",
            "Epoch 10/50\n",
            "39/39 [==============================] - 0s 2ms/step - loss: 0.1421 - accuracy: 0.9556\n",
            "Epoch 11/50\n",
            "39/39 [==============================] - 0s 1ms/step - loss: 0.1342 - accuracy: 0.9562\n",
            "Epoch 12/50\n",
            "39/39 [==============================] - 0s 2ms/step - loss: 0.1207 - accuracy: 0.9643\n",
            "Epoch 13/50\n",
            "39/39 [==============================] - 0s 2ms/step - loss: 0.1354 - accuracy: 0.9475\n",
            "Epoch 14/50\n",
            "39/39 [==============================] - 0s 2ms/step - loss: 0.1149 - accuracy: 0.9592\n",
            "Epoch 15/50\n",
            "39/39 [==============================] - 0s 2ms/step - loss: 0.1114 - accuracy: 0.9580\n",
            "Epoch 16/50\n",
            "39/39 [==============================] - 0s 1ms/step - loss: 0.1372 - accuracy: 0.9385\n",
            "Epoch 17/50\n",
            "39/39 [==============================] - 0s 2ms/step - loss: 0.1076 - accuracy: 0.9588\n",
            "Epoch 18/50\n",
            "39/39 [==============================] - 0s 2ms/step - loss: 0.1021 - accuracy: 0.9638\n",
            "Epoch 19/50\n",
            "39/39 [==============================] - 0s 1ms/step - loss: 0.1164 - accuracy: 0.9543\n",
            "Epoch 20/50\n",
            "39/39 [==============================] - 0s 2ms/step - loss: 0.1167 - accuracy: 0.9504\n",
            "Epoch 21/50\n",
            "39/39 [==============================] - 0s 2ms/step - loss: 0.1123 - accuracy: 0.9558\n",
            "Epoch 22/50\n",
            "39/39 [==============================] - 0s 2ms/step - loss: 0.1173 - accuracy: 0.9485\n",
            "Epoch 23/50\n",
            "39/39 [==============================] - 0s 2ms/step - loss: 0.1264 - accuracy: 0.9447\n",
            "Epoch 24/50\n",
            "39/39 [==============================] - 0s 1ms/step - loss: 0.0976 - accuracy: 0.9647\n",
            "Epoch 25/50\n",
            "39/39 [==============================] - 0s 1ms/step - loss: 0.1176 - accuracy: 0.9561\n",
            "Epoch 26/50\n",
            "39/39 [==============================] - 0s 1ms/step - loss: 0.1165 - accuracy: 0.9484\n",
            "Epoch 27/50\n",
            "39/39 [==============================] - 0s 2ms/step - loss: 0.1265 - accuracy: 0.9459\n",
            "Epoch 28/50\n",
            "39/39 [==============================] - 0s 2ms/step - loss: 0.1204 - accuracy: 0.9472\n",
            "Epoch 29/50\n",
            "39/39 [==============================] - 0s 1ms/step - loss: 0.1085 - accuracy: 0.9545\n",
            "Epoch 30/50\n",
            "39/39 [==============================] - 0s 2ms/step - loss: 0.0966 - accuracy: 0.9591\n",
            "Epoch 31/50\n",
            "39/39 [==============================] - 0s 1ms/step - loss: 0.1135 - accuracy: 0.9518\n",
            "Epoch 32/50\n",
            "39/39 [==============================] - 0s 2ms/step - loss: 0.1011 - accuracy: 0.9575\n",
            "Epoch 33/50\n",
            "39/39 [==============================] - 0s 1ms/step - loss: 0.1077 - accuracy: 0.9522\n",
            "Epoch 34/50\n",
            "39/39 [==============================] - 0s 1ms/step - loss: 0.0949 - accuracy: 0.9645\n",
            "Epoch 35/50\n",
            "39/39 [==============================] - 0s 1ms/step - loss: 0.1025 - accuracy: 0.9574\n",
            "Epoch 36/50\n",
            "39/39 [==============================] - 0s 1ms/step - loss: 0.0929 - accuracy: 0.9582\n",
            "Epoch 37/50\n",
            "39/39 [==============================] - 0s 1ms/step - loss: 0.1094 - accuracy: 0.9504\n",
            "Epoch 38/50\n",
            "39/39 [==============================] - 0s 1ms/step - loss: 0.1105 - accuracy: 0.9574\n",
            "Epoch 39/50\n",
            "39/39 [==============================] - 0s 2ms/step - loss: 0.1011 - accuracy: 0.9585\n",
            "Epoch 40/50\n",
            "39/39 [==============================] - 0s 2ms/step - loss: 0.0948 - accuracy: 0.9563\n",
            "Epoch 41/50\n",
            "39/39 [==============================] - 0s 2ms/step - loss: 0.1051 - accuracy: 0.9593\n",
            "Epoch 42/50\n",
            "39/39 [==============================] - 0s 1ms/step - loss: 0.0983 - accuracy: 0.9593\n",
            "Epoch 43/50\n",
            "39/39 [==============================] - 0s 2ms/step - loss: 0.1095 - accuracy: 0.9487\n",
            "Epoch 44/50\n",
            "39/39 [==============================] - 0s 2ms/step - loss: 0.1147 - accuracy: 0.9505\n",
            "Epoch 45/50\n",
            "39/39 [==============================] - 0s 2ms/step - loss: 0.1029 - accuracy: 0.9494\n",
            "Epoch 46/50\n",
            "39/39 [==============================] - 0s 2ms/step - loss: 0.1031 - accuracy: 0.9547\n",
            "Epoch 47/50\n",
            "39/39 [==============================] - 0s 1ms/step - loss: 0.1080 - accuracy: 0.9447\n",
            "Epoch 48/50\n",
            "39/39 [==============================] - 0s 1ms/step - loss: 0.1017 - accuracy: 0.9582\n",
            "Epoch 49/50\n",
            "39/39 [==============================] - 0s 2ms/step - loss: 0.1221 - accuracy: 0.9518\n",
            "Epoch 50/50\n",
            "39/39 [==============================] - 0s 1ms/step - loss: 0.1068 - accuracy: 0.9555\n"
          ],
          "name": "stdout"
        },
        {
          "output_type": "execute_result",
          "data": {
            "text/plain": [
              "<tensorflow.python.keras.callbacks.History at 0x7fc98dfbea50>"
            ]
          },
          "metadata": {
            "tags": []
          },
          "execution_count": 14
        }
      ]
    },
    {
      "cell_type": "code",
      "metadata": {
        "id": "v2fmvlywtoBN",
        "outputId": "ea547736-08f3-44c9-9586-3edfcacfc5da",
        "colab": {
          "base_uri": "https://localhost:8080/"
        }
      },
      "source": [
        "model.summary()"
      ],
      "execution_count": 15,
      "outputs": [
        {
          "output_type": "stream",
          "text": [
            "Model: \"sequential\"\n",
            "_________________________________________________________________\n",
            "Layer (type)                 Output Shape              Param #   \n",
            "=================================================================\n",
            "dense (Dense)                (None, 10)                30        \n",
            "_________________________________________________________________\n",
            "dense_1 (Dense)              (None, 10)                110       \n",
            "_________________________________________________________________\n",
            "dense_2 (Dense)              (None, 2)                 22        \n",
            "=================================================================\n",
            "Total params: 162\n",
            "Trainable params: 162\n",
            "Non-trainable params: 0\n",
            "_________________________________________________________________\n"
          ],
          "name": "stdout"
        }
      ]
    },
    {
      "cell_type": "code",
      "metadata": {
        "id": "DUYPQyCst6PD",
        "outputId": "a3f1dc44-e0cc-4a50-f0a6-9184139eacf7",
        "colab": {
          "base_uri": "https://localhost:8080/"
        }
      },
      "source": [
        "loss, accuracy = model.evaluate(X_test, y_test)"
      ],
      "execution_count": 16,
      "outputs": [
        {
          "output_type": "stream",
          "text": [
            "10/10 [==============================] - 0s 2ms/step - loss: 0.1069 - accuracy: 0.9550\n"
          ],
          "name": "stdout"
        }
      ]
    },
    {
      "cell_type": "code",
      "metadata": {
        "id": "PF6tGbwnuCNy",
        "outputId": "7b23065a-579d-4f4b-9e93-03990a84f026",
        "colab": {
          "base_uri": "https://localhost:8080/"
        }
      },
      "source": [
        "loss"
      ],
      "execution_count": 17,
      "outputs": [
        {
          "output_type": "execute_result",
          "data": {
            "text/plain": [
              "0.10694900155067444"
            ]
          },
          "metadata": {
            "tags": []
          },
          "execution_count": 17
        }
      ]
    },
    {
      "cell_type": "code",
      "metadata": {
        "id": "RLxYk6FMuD14",
        "outputId": "c2027dfa-9a0a-49d7-c71d-301926e5c8c3",
        "colab": {
          "base_uri": "https://localhost:8080/"
        }
      },
      "source": [
        "accuracy"
      ],
      "execution_count": 18,
      "outputs": [
        {
          "output_type": "execute_result",
          "data": {
            "text/plain": [
              "0.9549839496612549"
            ]
          },
          "metadata": {
            "tags": []
          },
          "execution_count": 18
        }
      ]
    },
    {
      "cell_type": "code",
      "metadata": {
        "id": "hUyH8gQNuER7"
      },
      "source": [
        "prediction1 = model.predict(sc.transform(np.array([[42, 50000]])))[:1]"
      ],
      "execution_count": 19,
      "outputs": []
    },
    {
      "cell_type": "code",
      "metadata": {
        "id": "VASXSCy2uiDd",
        "outputId": "fb921c98-533d-45d5-af7f-b14243e02abd",
        "colab": {
          "base_uri": "https://localhost:8080/"
        }
      },
      "source": [
        "prediction1"
      ],
      "execution_count": 20,
      "outputs": [
        {
          "output_type": "execute_result",
          "data": {
            "text/plain": [
              "array([[0.35106704, 0.64893293]], dtype=float32)"
            ]
          },
          "metadata": {
            "tags": []
          },
          "execution_count": 20
        }
      ]
    },
    {
      "cell_type": "code",
      "metadata": {
        "id": "BeIMvEDzui76"
      },
      "source": [
        "prediction2 = model.predict(sc.transform(np.array([[20, 40000]])))"
      ],
      "execution_count": 24,
      "outputs": []
    },
    {
      "cell_type": "code",
      "metadata": {
        "id": "IRjtQYe8w6rA",
        "outputId": "cf543a09-0183-4059-c4ed-e1835df741bf",
        "colab": {
          "base_uri": "https://localhost:8080/"
        }
      },
      "source": [
        "prediction2"
      ],
      "execution_count": 25,
      "outputs": [
        {
          "output_type": "execute_result",
          "data": {
            "text/plain": [
              "array([[0.9952271 , 0.00477293]], dtype=float32)"
            ]
          },
          "metadata": {
            "tags": []
          },
          "execution_count": 25
        }
      ]
    },
    {
      "cell_type": "code",
      "metadata": {
        "id": "TSXI0mL4w8GM",
        "outputId": "698e2fac-c7b8-4601-d416-e41470d1feca",
        "colab": {
          "base_uri": "https://localhost:8080/"
        }
      },
      "source": [
        "model.save('customer_behavior_model/1')"
      ],
      "execution_count": 26,
      "outputs": [
        {
          "output_type": "stream",
          "text": [
            "INFO:tensorflow:Assets written to: customer_behavior_model/1/assets\n"
          ],
          "name": "stdout"
        }
      ]
    },
    {
      "cell_type": "code",
      "metadata": {
        "id": "nyqJxHE8xIJ_",
        "outputId": "04f740e3-401d-475f-80f4-2d78c1f3ab36",
        "colab": {
          "base_uri": "https://localhost:8080/"
        }
      },
      "source": [
        "!ls"
      ],
      "execution_count": 27,
      "outputs": [
        {
          "output_type": "stream",
          "text": [
            "customer_behavior_model  sample_data\n"
          ],
          "name": "stdout"
        }
      ]
    },
    {
      "cell_type": "code",
      "metadata": {
        "id": "38m8vbYwxKXb",
        "outputId": "a54b700d-9349-4e21-e380-1e4d243028be",
        "colab": {
          "base_uri": "https://localhost:8080/"
        }
      },
      "source": [
        "!ls customer_behavior_model/1"
      ],
      "execution_count": 28,
      "outputs": [
        {
          "output_type": "stream",
          "text": [
            "assets\tsaved_model.pb\tvariables\n"
          ],
          "name": "stdout"
        }
      ]
    },
    {
      "cell_type": "code",
      "metadata": {
        "id": "6EJM6MHWxOY9"
      },
      "source": [
        "from tensorflow.keras.models import load_model"
      ],
      "execution_count": 30,
      "outputs": []
    },
    {
      "cell_type": "code",
      "metadata": {
        "id": "zQtkRDQUz6LX"
      },
      "source": [
        "cust_model = load_model('customer_behavior_model/1/')"
      ],
      "execution_count": 31,
      "outputs": []
    },
    {
      "cell_type": "code",
      "metadata": {
        "id": "CnWJAMQ60FrN"
      },
      "source": [
        "prediction4 = cust_model.predict(sc.transform(np.array([[42, 50000]])))[:,1]"
      ],
      "execution_count": 34,
      "outputs": []
    },
    {
      "cell_type": "code",
      "metadata": {
        "id": "qNK2_WIo0L5u",
        "outputId": "f9745ef8-ee3e-4c61-e3f6-8d14f7769a5e",
        "colab": {
          "base_uri": "https://localhost:8080/"
        }
      },
      "source": [
        "prediction4"
      ],
      "execution_count": 35,
      "outputs": [
        {
          "output_type": "execute_result",
          "data": {
            "text/plain": [
              "array([0.64893293], dtype=float32)"
            ]
          },
          "metadata": {
            "tags": []
          },
          "execution_count": 35
        }
      ]
    },
    {
      "cell_type": "code",
      "metadata": {
        "id": "7NHf_TlL0RbM",
        "outputId": "ecfcc667-d43d-4745-af53-76e198c4c16d",
        "colab": {
          "base_uri": "https://localhost:8080/"
        }
      },
      "source": [
        "!zip -r customermodel.zip customer_behavior_model"
      ],
      "execution_count": 36,
      "outputs": [
        {
          "output_type": "stream",
          "text": [
            "  adding: customer_behavior_model/ (stored 0%)\n",
            "  adding: customer_behavior_model/1/ (stored 0%)\n",
            "  adding: customer_behavior_model/1/saved_model.pb (deflated 88%)\n",
            "  adding: customer_behavior_model/1/variables/ (stored 0%)\n",
            "  adding: customer_behavior_model/1/variables/variables.data-00000-of-00001 (deflated 54%)\n",
            "  adding: customer_behavior_model/1/variables/variables.index (deflated 64%)\n",
            "  adding: customer_behavior_model/1/assets/ (stored 0%)\n"
          ],
          "name": "stdout"
        }
      ]
    },
    {
      "cell_type": "code",
      "metadata": {
        "id": "xF1VJy5i0es3"
      },
      "source": [
        "from google.colab import files"
      ],
      "execution_count": 37,
      "outputs": []
    },
    {
      "cell_type": "code",
      "metadata": {
        "id": "SiMe9d1q0jod",
        "outputId": "037cf9c9-57a9-450e-e710-5dec905ba6bb",
        "colab": {
          "base_uri": "https://localhost:8080/"
        }
      },
      "source": [
        "!ls"
      ],
      "execution_count": 38,
      "outputs": [
        {
          "output_type": "stream",
          "text": [
            "customer_behavior_model  customermodel.zip  sample_data\n"
          ],
          "name": "stdout"
        }
      ]
    },
    {
      "cell_type": "code",
      "metadata": {
        "id": "F-s5vJ3Z0mxJ",
        "outputId": "24bd54ef-c104-4e1f-9a5d-2c9a1b6a6fac",
        "colab": {
          "base_uri": "https://localhost:8080/",
          "height": 17
        }
      },
      "source": [
        "files.download('customermodel.zip')"
      ],
      "execution_count": 39,
      "outputs": [
        {
          "output_type": "display_data",
          "data": {
            "application/javascript": [
              "\n",
              "    async function download(id, filename, size) {\n",
              "      if (!google.colab.kernel.accessAllowed) {\n",
              "        return;\n",
              "      }\n",
              "      const div = document.createElement('div');\n",
              "      const label = document.createElement('label');\n",
              "      label.textContent = `Downloading \"${filename}\": `;\n",
              "      div.appendChild(label);\n",
              "      const progress = document.createElement('progress');\n",
              "      progress.max = size;\n",
              "      div.appendChild(progress);\n",
              "      document.body.appendChild(div);\n",
              "\n",
              "      const buffers = [];\n",
              "      let downloaded = 0;\n",
              "\n",
              "      const channel = await google.colab.kernel.comms.open(id);\n",
              "      // Send a message to notify the kernel that we're ready.\n",
              "      channel.send({})\n",
              "\n",
              "      for await (const message of channel.messages) {\n",
              "        // Send a message to notify the kernel that we're ready.\n",
              "        channel.send({})\n",
              "        if (message.buffers) {\n",
              "          for (const buffer of message.buffers) {\n",
              "            buffers.push(buffer);\n",
              "            downloaded += buffer.byteLength;\n",
              "            progress.value = downloaded;\n",
              "          }\n",
              "        }\n",
              "      }\n",
              "      const blob = new Blob(buffers, {type: 'application/binary'});\n",
              "      const a = document.createElement('a');\n",
              "      a.href = window.URL.createObjectURL(blob);\n",
              "      a.download = filename;\n",
              "      div.appendChild(a);\n",
              "      a.click();\n",
              "      div.remove();\n",
              "    }\n",
              "  "
            ],
            "text/plain": [
              "<IPython.core.display.Javascript object>"
            ]
          },
          "metadata": {
            "tags": []
          }
        },
        {
          "output_type": "display_data",
          "data": {
            "application/javascript": [
              "download(\"download_9d8bac4a-617e-4298-99d0-9d88daa4bc1d\", \"customermodel.zip\", 16193)"
            ],
            "text/plain": [
              "<IPython.core.display.Javascript object>"
            ]
          },
          "metadata": {
            "tags": []
          }
        }
      ]
    },
    {
      "cell_type": "code",
      "metadata": {
        "id": "EYDQzi2p0tTk"
      },
      "source": [
        ""
      ],
      "execution_count": null,
      "outputs": []
    }
  ]
}