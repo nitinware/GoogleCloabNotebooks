{
  "nbformat": 4,
  "nbformat_minor": 0,
  "metadata": {
    "colab": {
      "name": "Course2_Week2_Exampe.ipynb",
      "provenance": [],
      "authorship_tag": "ABX9TyOS4NQzeupdiWRyOBcR4u3+",
      "include_colab_link": true
    },
    "kernelspec": {
      "name": "python3",
      "display_name": "Python 3"
    },
    "accelerator": "GPU"
  },
  "cells": [
    {
      "cell_type": "markdown",
      "metadata": {
        "id": "view-in-github",
        "colab_type": "text"
      },
      "source": [
        "<a href=\"https://colab.research.google.com/github/nitinware/GoogleCloabNotebooks/blob/master/coursera/Intro_TF/Course2_Week2_Example_Augmentation.ipynb\" target=\"_parent\"><img src=\"https://colab.research.google.com/assets/colab-badge.svg\" alt=\"Open In Colab\"/></a>"
      ]
    },
    {
      "cell_type": "code",
      "metadata": {
        "id": "a2AnOGqWO9HS",
        "colab": {
          "base_uri": "https://localhost:8080/"
        },
        "outputId": "8d964c23-2697-44d6-db63-0ef8e26e1a20"
      },
      "source": [
        "!wget --no-check-certificate \\\n",
        "    https://storage.googleapis.com/mledu-datasets/cats_and_dogs_filtered.zip \\\n",
        "    -O /tmp/cats_and_dogs_filtered.zip\n",
        "  \n",
        "import os\n",
        "import zipfile\n",
        "import tensorflow as tf\n",
        "from tensorflow.keras.optimizers import RMSprop\n",
        "from tensorflow.keras.preprocessing.image import ImageDataGenerator"
      ],
      "execution_count": 1,
      "outputs": [
        {
          "output_type": "stream",
          "text": [
            "--2020-12-22 03:37:40--  https://storage.googleapis.com/mledu-datasets/cats_and_dogs_filtered.zip\n",
            "Resolving storage.googleapis.com (storage.googleapis.com)... 172.217.7.240, 172.253.122.128, 142.250.73.208, ...\n",
            "Connecting to storage.googleapis.com (storage.googleapis.com)|172.217.7.240|:443... connected.\n",
            "HTTP request sent, awaiting response... 200 OK\n",
            "Length: 68606236 (65M) [application/zip]\n",
            "Saving to: ‘/tmp/cats_and_dogs_filtered.zip’\n",
            "\n",
            "/tmp/cats_and_dogs_ 100%[===================>]  65.43M   118MB/s    in 0.6s    \n",
            "\n",
            "2020-12-22 03:37:40 (118 MB/s) - ‘/tmp/cats_and_dogs_filtered.zip’ saved [68606236/68606236]\n",
            "\n"
          ],
          "name": "stdout"
        }
      ]
    },
    {
      "cell_type": "code",
      "metadata": {
        "id": "G38imqByPJPV"
      },
      "source": [
        "local_zip = '/tmp/cats_and_dogs_filtered.zip'\n",
        "zip_ref = zipfile.ZipFile(local_zip, 'r')\n",
        "zip_ref.extractall('/tmp')\n",
        "zip_ref.close()"
      ],
      "execution_count": 2,
      "outputs": []
    },
    {
      "cell_type": "code",
      "metadata": {
        "id": "yn3pjmWOPXof"
      },
      "source": [
        "base_dir = '/tmp/cats_and_dogs_filtered'\n",
        "train_dir = os.path.join(base_dir, 'train')\n",
        "validation_dir = os.path.join(base_dir, 'validation')"
      ],
      "execution_count": 3,
      "outputs": []
    },
    {
      "cell_type": "code",
      "metadata": {
        "id": "j-z8D14KPpwd"
      },
      "source": [
        "train_cats_dir = os.path.join(train_dir, 'cats')\n",
        "train_dogs_dir = os.path.join(train_dir, 'dogs')"
      ],
      "execution_count": 4,
      "outputs": []
    },
    {
      "cell_type": "code",
      "metadata": {
        "id": "RZDUK5MeSpaC"
      },
      "source": [
        "validation_cats_dir = os.path.join(validation_dir, 'cats')\n",
        "validation_dogs_dir = os.path.join(validation_dir, 'dogs')"
      ],
      "execution_count": 5,
      "outputs": []
    },
    {
      "cell_type": "code",
      "metadata": {
        "id": "x8TCNE0ESuI_"
      },
      "source": [
        "model = tf.keras.models.Sequential([\n",
        "    tf.keras.layers.Conv2D(32, (3,3), activation='relu', input_shape=(150, 150, 3)),\n",
        "    tf.keras.layers.MaxPooling2D(2, 2),\n",
        "    tf.keras.layers.Conv2D(64, (3,3), activation='relu'),\n",
        "    tf.keras.layers.MaxPooling2D(2,2),\n",
        "    tf.keras.layers.Conv2D(128, (3,3), activation='relu'),\n",
        "    tf.keras.layers.MaxPooling2D(2,2),\n",
        "    tf.keras.layers.Conv2D(128, (3,3), activation='relu'),\n",
        "    tf.keras.layers.MaxPooling2D(2,2),\n",
        "    tf.keras.layers.Flatten(),\n",
        "    tf.keras.layers.Dense(512, activation='relu'),\n",
        "    tf.keras.layers.Dense(1, activation='sigmoid')\n",
        "])"
      ],
      "execution_count": 6,
      "outputs": []
    },
    {
      "cell_type": "code",
      "metadata": {
        "id": "KhNF343kS3lv"
      },
      "source": [
        "model.compile(loss='binary_crossentropy', optimizer=RMSprop(lr=1e-4), metrics=['accuracy'])"
      ],
      "execution_count": 7,
      "outputs": []
    },
    {
      "cell_type": "code",
      "metadata": {
        "id": "jq92Kkw8TEAZ"
      },
      "source": [
        "train_datagen = ImageDataGenerator(\n",
        "      rescale=1./255,\n",
        "      rotation_range=40,\n",
        "      width_shift_range=0.2,\n",
        "      height_shift_range=0.2,\n",
        "      shear_range=0.2,\n",
        "      zoom_range=0.2,\n",
        "      horizontal_flip=True,\n",
        "      fill_mode='nearest')\n",
        "\n",
        "test_datagen = ImageDataGenerator(rescale=1./255)"
      ],
      "execution_count": 8,
      "outputs": []
    },
    {
      "cell_type": "code",
      "metadata": {
        "id": "Qp5aMfk5TJbm",
        "colab": {
          "base_uri": "https://localhost:8080/"
        },
        "outputId": "35080c27-6691-4930-fbc3-521339faed2e"
      },
      "source": [
        "train_generator = train_datagen.flow_from_directory(\n",
        "    train_dir,\n",
        "    target_size=(150,150),\n",
        "    batch_size=20,\n",
        "    class_mode='binary'\n",
        ")"
      ],
      "execution_count": 9,
      "outputs": [
        {
          "output_type": "stream",
          "text": [
            "Found 2000 images belonging to 2 classes.\n"
          ],
          "name": "stdout"
        }
      ]
    },
    {
      "cell_type": "code",
      "metadata": {
        "id": "ySYetDvbTU0x",
        "colab": {
          "base_uri": "https://localhost:8080/"
        },
        "outputId": "905b83b9-113c-4db9-fe34-ca49e5bed444"
      },
      "source": [
        "validation_generator = test_datagen.flow_from_directory(\n",
        "    validation_dir,\n",
        "    target_size=(150,150),\n",
        "    batch_size=20,\n",
        "    class_mode='binary'\n",
        ")"
      ],
      "execution_count": 10,
      "outputs": [
        {
          "output_type": "stream",
          "text": [
            "Found 1000 images belonging to 2 classes.\n"
          ],
          "name": "stdout"
        }
      ]
    },
    {
      "cell_type": "code",
      "metadata": {
        "id": "yu1AceorTeC7",
        "colab": {
          "base_uri": "https://localhost:8080/"
        },
        "outputId": "b6ada1c2-f76f-4db9-ef20-4bf5593480d9"
      },
      "source": [
        "history = model.fit(\n",
        "      train_generator,\n",
        "      steps_per_epoch=100,  # 2000 images = batch_size * steps\n",
        "      epochs=100,\n",
        "      validation_data=validation_generator,\n",
        "      validation_steps=50,  # 1000 images = batch_size * steps\n",
        "      verbose=2)"
      ],
      "execution_count": null,
      "outputs": [
        {
          "output_type": "stream",
          "text": [
            "Epoch 1/100\n",
            "100/100 - 24s - loss: 0.6925 - accuracy: 0.5180 - val_loss: 0.6695 - val_accuracy: 0.6140\n",
            "Epoch 2/100\n",
            "100/100 - 16s - loss: 0.6771 - accuracy: 0.5605 - val_loss: 0.6509 - val_accuracy: 0.6150\n",
            "Epoch 3/100\n",
            "100/100 - 16s - loss: 0.6674 - accuracy: 0.5890 - val_loss: 0.6577 - val_accuracy: 0.5750\n",
            "Epoch 4/100\n",
            "100/100 - 16s - loss: 0.6609 - accuracy: 0.5950 - val_loss: 0.6446 - val_accuracy: 0.6150\n",
            "Epoch 5/100\n",
            "100/100 - 16s - loss: 0.6422 - accuracy: 0.6220 - val_loss: 0.5976 - val_accuracy: 0.6740\n",
            "Epoch 6/100\n",
            "100/100 - 16s - loss: 0.6291 - accuracy: 0.6390 - val_loss: 0.6298 - val_accuracy: 0.6320\n",
            "Epoch 7/100\n",
            "100/100 - 16s - loss: 0.6096 - accuracy: 0.6680 - val_loss: 0.5877 - val_accuracy: 0.6870\n",
            "Epoch 8/100\n",
            "100/100 - 16s - loss: 0.5999 - accuracy: 0.6720 - val_loss: 0.5682 - val_accuracy: 0.7070\n",
            "Epoch 9/100\n",
            "100/100 - 16s - loss: 0.5975 - accuracy: 0.6855 - val_loss: 0.5503 - val_accuracy: 0.7220\n",
            "Epoch 10/100\n",
            "100/100 - 16s - loss: 0.5866 - accuracy: 0.6845 - val_loss: 0.5413 - val_accuracy: 0.7200\n",
            "Epoch 11/100\n",
            "100/100 - 16s - loss: 0.5834 - accuracy: 0.6965 - val_loss: 0.5437 - val_accuracy: 0.7140\n",
            "Epoch 12/100\n",
            "100/100 - 16s - loss: 0.5723 - accuracy: 0.7050 - val_loss: 0.6493 - val_accuracy: 0.6430\n",
            "Epoch 13/100\n",
            "100/100 - 16s - loss: 0.5670 - accuracy: 0.6965 - val_loss: 0.5613 - val_accuracy: 0.7070\n",
            "Epoch 14/100\n",
            "100/100 - 16s - loss: 0.5512 - accuracy: 0.7050 - val_loss: 0.5221 - val_accuracy: 0.7320\n",
            "Epoch 15/100\n",
            "100/100 - 16s - loss: 0.5385 - accuracy: 0.7235 - val_loss: 0.5133 - val_accuracy: 0.7540\n",
            "Epoch 16/100\n",
            "100/100 - 16s - loss: 0.5553 - accuracy: 0.7105 - val_loss: 0.5016 - val_accuracy: 0.7550\n",
            "Epoch 17/100\n",
            "100/100 - 16s - loss: 0.5508 - accuracy: 0.7130 - val_loss: 0.5071 - val_accuracy: 0.7410\n",
            "Epoch 18/100\n",
            "100/100 - 16s - loss: 0.5481 - accuracy: 0.7160 - val_loss: 0.4927 - val_accuracy: 0.7650\n",
            "Epoch 19/100\n",
            "100/100 - 16s - loss: 0.5518 - accuracy: 0.7205 - val_loss: 0.5049 - val_accuracy: 0.7460\n",
            "Epoch 20/100\n",
            "100/100 - 16s - loss: 0.5444 - accuracy: 0.7295 - val_loss: 0.5001 - val_accuracy: 0.7570\n",
            "Epoch 21/100\n",
            "100/100 - 16s - loss: 0.5248 - accuracy: 0.7450 - val_loss: 0.4807 - val_accuracy: 0.7560\n",
            "Epoch 22/100\n",
            "100/100 - 16s - loss: 0.5249 - accuracy: 0.7405 - val_loss: 0.5371 - val_accuracy: 0.7210\n",
            "Epoch 23/100\n",
            "100/100 - 16s - loss: 0.5124 - accuracy: 0.7495 - val_loss: 0.5121 - val_accuracy: 0.7570\n",
            "Epoch 24/100\n",
            "100/100 - 16s - loss: 0.5170 - accuracy: 0.7355 - val_loss: 0.5294 - val_accuracy: 0.7370\n",
            "Epoch 25/100\n",
            "100/100 - 16s - loss: 0.5222 - accuracy: 0.7355 - val_loss: 0.4846 - val_accuracy: 0.7600\n",
            "Epoch 26/100\n",
            "100/100 - 16s - loss: 0.5247 - accuracy: 0.7485 - val_loss: 0.4881 - val_accuracy: 0.7600\n",
            "Epoch 27/100\n",
            "100/100 - 16s - loss: 0.5058 - accuracy: 0.7475 - val_loss: 0.4898 - val_accuracy: 0.7490\n",
            "Epoch 28/100\n",
            "100/100 - 16s - loss: 0.4978 - accuracy: 0.7630 - val_loss: 0.5214 - val_accuracy: 0.7270\n",
            "Epoch 29/100\n",
            "100/100 - 16s - loss: 0.4950 - accuracy: 0.7610 - val_loss: 0.5296 - val_accuracy: 0.7370\n",
            "Epoch 30/100\n",
            "100/100 - 16s - loss: 0.5013 - accuracy: 0.7615 - val_loss: 0.5232 - val_accuracy: 0.7460\n",
            "Epoch 31/100\n",
            "100/100 - 16s - loss: 0.4969 - accuracy: 0.7540 - val_loss: 0.4458 - val_accuracy: 0.7780\n",
            "Epoch 32/100\n",
            "100/100 - 16s - loss: 0.4923 - accuracy: 0.7565 - val_loss: 0.4483 - val_accuracy: 0.7910\n",
            "Epoch 33/100\n",
            "100/100 - 16s - loss: 0.4890 - accuracy: 0.7650 - val_loss: 0.4727 - val_accuracy: 0.7750\n",
            "Epoch 34/100\n",
            "100/100 - 16s - loss: 0.4936 - accuracy: 0.7575 - val_loss: 0.5056 - val_accuracy: 0.7500\n",
            "Epoch 35/100\n",
            "100/100 - 16s - loss: 0.4846 - accuracy: 0.7655 - val_loss: 0.4428 - val_accuracy: 0.7890\n",
            "Epoch 36/100\n",
            "100/100 - 16s - loss: 0.4703 - accuracy: 0.7730 - val_loss: 0.4633 - val_accuracy: 0.7750\n",
            "Epoch 37/100\n",
            "100/100 - 16s - loss: 0.4800 - accuracy: 0.7655 - val_loss: 0.4848 - val_accuracy: 0.7700\n",
            "Epoch 38/100\n",
            "100/100 - 16s - loss: 0.4657 - accuracy: 0.7805 - val_loss: 0.4416 - val_accuracy: 0.7850\n",
            "Epoch 39/100\n",
            "100/100 - 16s - loss: 0.4721 - accuracy: 0.7770 - val_loss: 0.5020 - val_accuracy: 0.7460\n",
            "Epoch 40/100\n",
            "100/100 - 16s - loss: 0.4598 - accuracy: 0.7770 - val_loss: 0.4464 - val_accuracy: 0.7780\n",
            "Epoch 41/100\n",
            "100/100 - 16s - loss: 0.4564 - accuracy: 0.7860 - val_loss: 0.4280 - val_accuracy: 0.8040\n",
            "Epoch 42/100\n",
            "100/100 - 16s - loss: 0.4562 - accuracy: 0.7815 - val_loss: 0.4682 - val_accuracy: 0.7720\n",
            "Epoch 43/100\n",
            "100/100 - 16s - loss: 0.4592 - accuracy: 0.7830 - val_loss: 0.4818 - val_accuracy: 0.7620\n",
            "Epoch 44/100\n",
            "100/100 - 16s - loss: 0.4436 - accuracy: 0.7975 - val_loss: 0.4349 - val_accuracy: 0.7960\n",
            "Epoch 45/100\n",
            "100/100 - 16s - loss: 0.4607 - accuracy: 0.7855 - val_loss: 0.5077 - val_accuracy: 0.7510\n",
            "Epoch 46/100\n",
            "100/100 - 16s - loss: 0.4441 - accuracy: 0.7885 - val_loss: 0.4563 - val_accuracy: 0.7760\n",
            "Epoch 47/100\n",
            "100/100 - 16s - loss: 0.4447 - accuracy: 0.7955 - val_loss: 0.4471 - val_accuracy: 0.7880\n",
            "Epoch 48/100\n",
            "100/100 - 16s - loss: 0.4290 - accuracy: 0.8020 - val_loss: 0.4451 - val_accuracy: 0.7760\n",
            "Epoch 49/100\n",
            "100/100 - 16s - loss: 0.4402 - accuracy: 0.8000 - val_loss: 0.4309 - val_accuracy: 0.7880\n",
            "Epoch 50/100\n",
            "100/100 - 16s - loss: 0.4442 - accuracy: 0.7910 - val_loss: 0.4360 - val_accuracy: 0.7950\n",
            "Epoch 51/100\n",
            "100/100 - 16s - loss: 0.4345 - accuracy: 0.7970 - val_loss: 0.5004 - val_accuracy: 0.7690\n",
            "Epoch 52/100\n",
            "100/100 - 16s - loss: 0.4427 - accuracy: 0.7910 - val_loss: 0.4176 - val_accuracy: 0.8050\n",
            "Epoch 53/100\n",
            "100/100 - 16s - loss: 0.4290 - accuracy: 0.7870 - val_loss: 0.4334 - val_accuracy: 0.7990\n",
            "Epoch 54/100\n",
            "100/100 - 16s - loss: 0.4299 - accuracy: 0.7920 - val_loss: 0.4115 - val_accuracy: 0.8140\n",
            "Epoch 55/100\n",
            "100/100 - 16s - loss: 0.4353 - accuracy: 0.8085 - val_loss: 0.4104 - val_accuracy: 0.8080\n",
            "Epoch 56/100\n",
            "100/100 - 16s - loss: 0.4297 - accuracy: 0.8010 - val_loss: 0.4302 - val_accuracy: 0.7940\n",
            "Epoch 57/100\n",
            "100/100 - 16s - loss: 0.4265 - accuracy: 0.8020 - val_loss: 0.4497 - val_accuracy: 0.7830\n",
            "Epoch 58/100\n",
            "100/100 - 16s - loss: 0.4163 - accuracy: 0.8035 - val_loss: 0.4057 - val_accuracy: 0.8160\n",
            "Epoch 59/100\n",
            "100/100 - 16s - loss: 0.4243 - accuracy: 0.8030 - val_loss: 0.4373 - val_accuracy: 0.7990\n",
            "Epoch 60/100\n",
            "100/100 - 16s - loss: 0.4122 - accuracy: 0.8070 - val_loss: 0.4127 - val_accuracy: 0.7960\n",
            "Epoch 61/100\n",
            "100/100 - 16s - loss: 0.4180 - accuracy: 0.7985 - val_loss: 0.4447 - val_accuracy: 0.7870\n",
            "Epoch 62/100\n",
            "100/100 - 16s - loss: 0.4102 - accuracy: 0.8100 - val_loss: 0.4048 - val_accuracy: 0.8110\n",
            "Epoch 63/100\n",
            "100/100 - 16s - loss: 0.4080 - accuracy: 0.8120 - val_loss: 0.5032 - val_accuracy: 0.7430\n",
            "Epoch 64/100\n",
            "100/100 - 16s - loss: 0.4086 - accuracy: 0.8100 - val_loss: 0.4196 - val_accuracy: 0.8150\n",
            "Epoch 65/100\n",
            "100/100 - 16s - loss: 0.4027 - accuracy: 0.8150 - val_loss: 0.4116 - val_accuracy: 0.8110\n",
            "Epoch 66/100\n",
            "100/100 - 16s - loss: 0.3944 - accuracy: 0.8210 - val_loss: 0.4004 - val_accuracy: 0.8110\n",
            "Epoch 67/100\n",
            "100/100 - 16s - loss: 0.4105 - accuracy: 0.8140 - val_loss: 0.4132 - val_accuracy: 0.8090\n",
            "Epoch 68/100\n",
            "100/100 - 16s - loss: 0.4198 - accuracy: 0.7945 - val_loss: 0.4129 - val_accuracy: 0.8140\n",
            "Epoch 69/100\n",
            "100/100 - 16s - loss: 0.3985 - accuracy: 0.8265 - val_loss: 0.4777 - val_accuracy: 0.7850\n",
            "Epoch 70/100\n",
            "100/100 - 16s - loss: 0.4153 - accuracy: 0.8105 - val_loss: 0.4031 - val_accuracy: 0.8170\n",
            "Epoch 71/100\n",
            "100/100 - 16s - loss: 0.4085 - accuracy: 0.8035 - val_loss: 0.4113 - val_accuracy: 0.8050\n",
            "Epoch 72/100\n",
            "100/100 - 16s - loss: 0.3993 - accuracy: 0.8200 - val_loss: 0.4351 - val_accuracy: 0.7960\n",
            "Epoch 73/100\n",
            "100/100 - 16s - loss: 0.3848 - accuracy: 0.8210 - val_loss: 0.4344 - val_accuracy: 0.8070\n",
            "Epoch 74/100\n",
            "100/100 - 16s - loss: 0.4057 - accuracy: 0.8145 - val_loss: 0.4082 - val_accuracy: 0.8090\n",
            "Epoch 75/100\n",
            "100/100 - 16s - loss: 0.3919 - accuracy: 0.8270 - val_loss: 0.4071 - val_accuracy: 0.8150\n",
            "Epoch 76/100\n",
            "100/100 - 16s - loss: 0.3974 - accuracy: 0.8210 - val_loss: 0.4783 - val_accuracy: 0.7730\n",
            "Epoch 77/100\n",
            "100/100 - 16s - loss: 0.3865 - accuracy: 0.8250 - val_loss: 0.3790 - val_accuracy: 0.8270\n",
            "Epoch 78/100\n",
            "100/100 - 16s - loss: 0.3757 - accuracy: 0.8345 - val_loss: 0.3933 - val_accuracy: 0.8210\n",
            "Epoch 79/100\n",
            "100/100 - 16s - loss: 0.3765 - accuracy: 0.8255 - val_loss: 0.4519 - val_accuracy: 0.8030\n",
            "Epoch 80/100\n",
            "100/100 - 16s - loss: 0.3698 - accuracy: 0.8390 - val_loss: 0.3957 - val_accuracy: 0.8220\n",
            "Epoch 81/100\n",
            "100/100 - 16s - loss: 0.3784 - accuracy: 0.8265 - val_loss: 0.4026 - val_accuracy: 0.8140\n",
            "Epoch 82/100\n",
            "100/100 - 16s - loss: 0.3763 - accuracy: 0.8335 - val_loss: 0.3872 - val_accuracy: 0.8280\n",
            "Epoch 83/100\n",
            "100/100 - 16s - loss: 0.3691 - accuracy: 0.8350 - val_loss: 0.3792 - val_accuracy: 0.8350\n",
            "Epoch 84/100\n",
            "100/100 - 16s - loss: 0.3628 - accuracy: 0.8475 - val_loss: 0.3843 - val_accuracy: 0.8210\n",
            "Epoch 85/100\n"
          ],
          "name": "stdout"
        }
      ]
    },
    {
      "cell_type": "code",
      "metadata": {
        "id": "kQfZm85_fRnb"
      },
      "source": [
        "import matplotlib.pyplot as plt"
      ],
      "execution_count": null,
      "outputs": []
    },
    {
      "cell_type": "code",
      "metadata": {
        "id": "OvgbSoTkfXlS"
      },
      "source": [
        "acc = history.history['accuracy']\n",
        "val_acc = history.history['val_accuracy']\n",
        "loss = history.history['loss']\n",
        "val_loss = history.history['val_loss']"
      ],
      "execution_count": null,
      "outputs": []
    },
    {
      "cell_type": "code",
      "metadata": {
        "id": "PYohTr2zfgq8"
      },
      "source": [
        "epochs = range(len(acc))"
      ],
      "execution_count": null,
      "outputs": []
    },
    {
      "cell_type": "code",
      "metadata": {
        "id": "HuaXQUSkfkLB"
      },
      "source": [
        "plt.plot(epochs, acc, 'bo', label='Training accuracy')\n",
        "plt.plot(epochs, val_acc, 'b', label='Validation accuracy')\n",
        "plt.title('Training and validation accuracy')\n",
        "\n",
        "plt.figure()\n",
        "\n",
        "plt.plot(epochs, loss, 'bo', label='Training loss')\n",
        "plt.plot(epochs, val_loss, 'b', label='Validation loss')\n",
        "plt.title('Training and validation loss')\n",
        "\n",
        "plt.legend()\n",
        "\n",
        "plt.show()"
      ],
      "execution_count": null,
      "outputs": []
    },
    {
      "cell_type": "code",
      "metadata": {
        "id": "kdiRh3pIgeu7"
      },
      "source": [
        ""
      ],
      "execution_count": null,
      "outputs": []
    }
  ]
}